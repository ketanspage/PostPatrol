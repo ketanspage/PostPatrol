{
  "nbformat": 4,
  "nbformat_minor": 0,
  "metadata": {
    "colab": {
      "provenance": []
    },
    "kernelspec": {
      "name": "python3",
      "display_name": "Python 3"
    },
    "language_info": {
      "name": "python"
    }
  },
  "cells": [
    {
      "cell_type": "code",
      "execution_count": null,
      "metadata": {
        "id": "O3YkYz7KaSxZ"
      },
      "outputs": [],
      "source": [
        "keyword=input()"
      ]
    },
    {
      "cell_type": "code",
      "source": [
        "import requests\n",
        "\n",
        "url = \"https://instagram-scraper-2022.p.rapidapi.com/ig/hashtag/\"\n",
        "\n",
        "querystring = {\"hashtag\":keyword,\"count\":2}\n",
        "\n",
        "headers = {\n",
        "\t\"X-RapidAPI-Key\": \"2171691dbbmsh1b969628c76c2d5p164aafjsnc482730e096c\",\n",
        "\t\"X-RapidAPI-Host\": \"instagram-scraper-2022.p.rapidapi.com\"\n",
        "}\n",
        "\n",
        "response = requests.get(url, headers=headers, params=querystring)\n",
        "\n",
        "insta_data=response.json()"
      ],
      "metadata": {
        "id": "jkyReTbWaYOg"
      },
      "execution_count": 45,
      "outputs": []
    },
    {
      "cell_type": "code",
      "source": [
        "username=insta_data['data']['top']['sections'][0]['layout_content']['medias'][0]['media']['user']['username']"
      ],
      "metadata": {
        "id": "YZdkl8AQyJ6o"
      },
      "execution_count": null,
      "outputs": []
    },
    {
      "cell_type": "code",
      "source": [
        "full_name=insta_data['data']['top']['sections'][0]['layout_content']['medias'][0]['media']['user']['full_name']"
      ],
      "metadata": {
        "id": "TP_GY39daj0y"
      },
      "execution_count": null,
      "outputs": []
    },
    {
      "cell_type": "code",
      "source": [
        "caption=insta_data['data']['top']['sections'][0]['layout_content']['medias'][0]['media']['caption']['text']"
      ],
      "metadata": {
        "id": "K8sgBE97Q6zp"
      },
      "execution_count": null,
      "outputs": []
    },
    {
      "cell_type": "code",
      "source": [
        "taken_at_timestamp=insta_data['data']['top']['sections'][0]['layout_content']['medias'][0]['media']['taken_at']"
      ],
      "metadata": {
        "id": "Qq_yuM464VRj"
      },
      "execution_count": null,
      "outputs": []
    },
    {
      "cell_type": "code",
      "source": [
        "from datetime import datetime\n",
        "date_time = datetime.fromtimestamp(taken_at_timestamp)"
      ],
      "metadata": {
        "id": "SWu7dJ3w6XDH"
      },
      "execution_count": null,
      "outputs": []
    },
    {
      "cell_type": "code",
      "source": [],
      "metadata": {
        "id": "T3bWiz8A7YtC"
      },
      "execution_count": 55,
      "outputs": []
    }
  ]
}