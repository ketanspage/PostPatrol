{
  "nbformat": 4,
  "nbformat_minor": 0,
  "metadata": {
    "colab": {
      "provenance": []
    },
    "kernelspec": {
      "name": "python3",
      "display_name": "Python 3"
    },
    "language_info": {
      "name": "python"
    }
  },
  "cells": [
    {
      "cell_type": "code",
      "execution_count": null,
      "metadata": {
        "colab": {
          "base_uri": "https://localhost:8080/"
        },
        "id": "_-qefd2LGdRP",
        "outputId": "ff7d948b-e147-47fe-f0f0-60c63d32a5d7"
      },
      "outputs": [
        {
          "name": "stdout",
          "output_type": "stream",
          "text": [
            "elon\n"
          ]
        }
      ],
      "source": [
        "keyword=input()"
      ]
    },
    {
      "cell_type": "code",
      "source": [
        "import requests\n",
        "\n",
        "url = \"https://twitter32.p.rapidapi.com/getSearch\"\n",
        "\n",
        "querystring = {\"hashtag\":keyword,\"lang\":\"en\"}\n",
        "\n",
        "headers = {\n",
        "\t\"X-RapidAPI-Key\": \"2171691dbbmsh1b969628c76c2d5p164aafjsnc482730e096c\",\n",
        "\t\"X-RapidAPI-Host\": \"twitter32.p.rapidapi.com\"\n",
        "}\n",
        "\n",
        "response = requests.get(url, headers=headers, params=querystring)\n",
        "\n",
        "tweet_data=response.json()"
      ],
      "metadata": {
        "id": "LwlyrWvxGsJm"
      },
      "execution_count": 55,
      "outputs": []
    },
    {
      "cell_type": "code",
      "source": [
        "tweet_name=tweet_data['data']['tweets'][0]['user']['name']"
      ],
      "metadata": {
        "id": "4FsCt1Fmupi4"
      },
      "execution_count": 67,
      "outputs": []
    },
    {
      "cell_type": "code",
      "source": [
        "tweet_screenname=tweet_data['data']['tweets'][0]['user']['screen_name']"
      ],
      "metadata": {
        "id": "JS_iuwtn_C3q"
      },
      "execution_count": 68,
      "outputs": []
    },
    {
      "cell_type": "code",
      "source": [
        "tweet_datetime=tweet_data['data']['tweets'][0]['created_at']"
      ],
      "metadata": {
        "id": "Wb-vgjV7Eh6S"
      },
      "execution_count": 79,
      "outputs": []
    },
    {
      "cell_type": "code",
      "source": [
        "from datetime import datetime\n",
        "\n",
        "date_string = tweet_datetime\n",
        "date_format = \"%a %b %d %H:%M:%S %z %Y\"\n",
        "\n",
        "date_obj = datetime.strptime(date_string, date_format)"
      ],
      "metadata": {
        "id": "49hi1enZFrCg"
      },
      "execution_count": 80,
      "outputs": []
    },
    {
      "cell_type": "code",
      "source": [
        "from datetime import datetime\n",
        "timestamp = date_obj.timestamp()"
      ],
      "metadata": {
        "id": "3SAHRkPEHEZB"
      },
      "execution_count": 81,
      "outputs": []
    },
    {
      "cell_type": "code",
      "source": [
        "tweet_text=tweet_data['data']['tweets'][0]['text']"
      ],
      "metadata": {
        "id": "E5GolEJgKlr5"
      },
      "execution_count": 82,
      "outputs": []
    },
    {
      "cell_type": "code",
      "source": [],
      "metadata": {
        "id": "SDAJsdivKxkf"
      },
      "execution_count": 77,
      "outputs": []
    }
  ]
}